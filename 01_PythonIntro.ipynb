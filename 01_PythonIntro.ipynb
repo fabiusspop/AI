{
 "cells": [
  {
   "cell_type": "markdown",
   "metadata": {},
   "source": [
    "# Python Introduction part I"
   ]
  },
  {
   "cell_type": "markdown",
   "metadata": {},
   "source": [
    "**Obs 1:** Python is _dynamically typed_ and instantly infers the data type of the variable."
   ]
  },
  {
   "cell_type": "code",
   "execution_count": 2,
   "metadata": {
    "scrolled": true
   },
   "outputs": [
    {
     "name": "stdout",
     "output_type": "stream",
     "text": [
      "This is my first string! <class 'str'>\n",
      "The assignment operator is \"=\" and my variable 2.0245 is of type: <class 'float'>.\n",
      "my_var = 7.0245 is of type: <class 'float'>.\n",
      "The exponent symbol is ** and my_var equals 49.344.\n"
     ]
    }
   ],
   "source": [
    "# To create variables assign values:\n",
    "my_var = 'This is my first string!' # the end of the statement doesn't require a ;\n",
    "print(my_var, type(my_var))\n",
    "\n",
    "my_var = 2.0245\n",
    "print('The assignment operator is \"=\" and my variable {} is of type: {}.' .format(my_var, type(my_var)))\n",
    "\n",
    "my_var += 5\n",
    "print('my_var = {} is of type: {}.' .format(my_var, type(my_var)))\n",
    "\n",
    "my_var = my_var**2\n",
    "print('The exponent symbol is ** and my_var equals {0:.3f}.' .format(my_var))"
   ]
  },
  {
   "cell_type": "markdown",
   "metadata": {},
   "source": [
    "**Obs 2:** Additionally, the automatic conversion of different data types is not allowed (Python is _strongly typed_)."
   ]
  },
  {
   "cell_type": "code",
   "execution_count": 3,
   "metadata": {},
   "outputs": [],
   "source": [
    "my_str = 'Why we like Science?'\n",
    "#print(my_str + my_var)"
   ]
  },
  {
   "cell_type": "markdown",
   "metadata": {},
   "source": [
    "### Task 0\n",
    "_Note: Yes, the laboratory uses zero-based indexing._\n",
    "\n",
    "* Convert `my_var` to integer.\n",
    "* Concatenate `my_str` with `my_var`.\n",
    "\n",
    "_Hint_: Mind the types of the variables you are concatenating.\n",
    "\n",
    "Different type conversion functions are:\n",
    "\n",
    "```python\n",
    "    int(variable)\n",
    "    float(variable)\n",
    "    str(variable)\n",
    "    list(variable)\n",
    "```"
   ]
  },
  {
   "cell_type": "code",
   "execution_count": 20,
   "metadata": {},
   "outputs": [
    {
     "name": "stdout",
     "output_type": "stream",
     "text": [
      "49\n",
      "Why we like Science? 49.\n"
     ]
    }
   ],
   "source": [
    "# Your impelementation here:\n",
    "my_var = 2.0245\n",
    "my_var += 5\n",
    "my_var = my_var**2\n",
    "my_str = 'Why we like Science?'\n",
    "\n",
    "\n",
    "# converting my_var to integer\n",
    "my_var = int(my_var)\n",
    "print(my_var)\n",
    "\n",
    "# concatenate my_str with my_var\n",
    "result = my_str + ' ' + str(my_var) + '.'\n",
    "print(result)\n",
    "\n"
   ]
  },
  {
   "cell_type": "code",
   "execution_count": 21,
   "metadata": {},
   "outputs": [
    {
     "name": "stdout",
     "output_type": "stream",
     "text": [
      "result: Why we like Science? 49.\n"
     ]
    }
   ],
   "source": [
    "print('result: {}' .format(result))\n",
    "assert result == 'Why we like Science? 49.'"
   ]
  },
  {
   "cell_type": "code",
   "execution_count": 3,
   "metadata": {},
   "outputs": [
    {
     "data": {
      "text/plain": [
       "True"
      ]
     },
     "execution_count": 3,
     "metadata": {},
     "output_type": "execute_result"
    }
   ],
   "source": [
    "# To verify if a variable has a reserved name:\n",
    "import keyword\n",
    "\n",
    "keyword.iskeyword('def')"
   ]
  },
  {
   "cell_type": "code",
   "execution_count": 23,
   "metadata": {
    "collapsed": true,
    "jupyter": {
     "outputs_hidden": true
    }
   },
   "outputs": [
    {
     "ename": "NameError",
     "evalue": "name 'my_var' is not defined",
     "output_type": "error",
     "traceback": [
      "\u001b[1;31m---------------------------------------------------------------------------\u001b[0m",
      "\u001b[1;31mNameError\u001b[0m                                 Traceback (most recent call last)",
      "Cell \u001b[1;32mIn[23], line 2\u001b[0m\n\u001b[0;32m      1\u001b[0m \u001b[38;5;66;03m# To remove a variable:\u001b[39;00m\n\u001b[1;32m----> 2\u001b[0m \u001b[38;5;28;01mdel\u001b[39;00m \u001b[43mmy_var\u001b[49m\n\u001b[0;32m      3\u001b[0m \u001b[38;5;28mprint\u001b[39m(my_var)\n",
      "\u001b[1;31mNameError\u001b[0m: name 'my_var' is not defined"
     ]
    }
   ],
   "source": [
    "# To remove a variable:\n",
    "del my_var\n",
    "print(my_var)"
   ]
  },
  {
   "cell_type": "markdown",
   "metadata": {},
   "source": [
    "### Task 1\n",
    "\n",
    "Write the _sentence_ string based on existing variables and any additional element.\n",
    "\n",
    "_Hint:_ You might want to take a look at `.format()` or `join()` method before."
   ]
  },
  {
   "cell_type": "code",
   "execution_count": 25,
   "metadata": {},
   "outputs": [],
   "source": [
    "noun = 'layer'\n",
    "verb = 'has'\n",
    "number = 128\n",
    "punctuation = '.'"
   ]
  },
  {
   "cell_type": "code",
   "execution_count": 26,
   "metadata": {},
   "outputs": [
    {
     "name": "stdout",
     "output_type": "stream",
     "text": [
      "This layer has 128 neurons.\n"
     ]
    }
   ],
   "source": [
    "# Your implementation:\n",
    "sentence = \"This {} {} {} neurons{}\".format(noun, verb, number, punctuation)\n",
    "\n",
    "print(sentence)"
   ]
  },
  {
   "cell_type": "code",
   "execution_count": 27,
   "metadata": {},
   "outputs": [
    {
     "name": "stdout",
     "output_type": "stream",
     "text": [
      "sentence: This layer has 128 neurons.\n"
     ]
    }
   ],
   "source": [
    "print('sentence: {}'.format(sentence))\n",
    "assert sentence == 'This layer has 128 neurons.'"
   ]
  },
  {
   "cell_type": "code",
   "execution_count": 28,
   "metadata": {},
   "outputs": [
    {
     "name": "stdout",
     "output_type": "stream",
     "text": [
      "A is an empty list: [], type: <class 'list'>\n",
      "B is known as `list display`: [0, 2, 4, 6], the number of items in the list: 4\n"
     ]
    }
   ],
   "source": [
    "A = [] # alternative A = list()\n",
    "print('A is an empty list: {}, type: {}'.format(A, type(A)))\n",
    "\n",
    "B = [0, 2, 4, 6] \n",
    "print('B is known as `list display`: {}, the number of items in the list: {}'.format(B, len(B)))"
   ]
  },
  {
   "cell_type": "markdown",
   "metadata": {},
   "source": [
    "### Task 2\n",
    "\n",
    "**a.** Change the values in list B in odd numbers, in a new list C. Using a `for loop` print list items."
   ]
  },
  {
   "cell_type": "code",
   "execution_count": 45,
   "metadata": {},
   "outputs": [
    {
     "name": "stdout",
     "output_type": "stream",
     "text": [
      "[0, 2, 4, 6]\n",
      "[1, 3, 5, 7]\n"
     ]
    }
   ],
   "source": [
    "# Your impelementation here:\n",
    "\n",
    "C = B[:]\n",
    "print(C)\n",
    "\n",
    "for item in range(0, len(C)):\n",
    "\tC[item] += 1\n",
    "\n",
    "print(C)\n"
   ]
  },
  {
   "cell_type": "code",
   "execution_count": 46,
   "metadata": {},
   "outputs": [
    {
     "name": "stdout",
     "output_type": "stream",
     "text": [
      "C : [1, 3, 5, 7]\n"
     ]
    }
   ],
   "source": [
    "print('C : {}'.format(C))\n",
    "assert C == [1, 3, 5, 7]"
   ]
  },
  {
   "cell_type": "code",
   "execution_count": 47,
   "metadata": {},
   "outputs": [
    {
     "name": "stdout",
     "output_type": "stream",
     "text": [
      "0\n"
     ]
    }
   ],
   "source": [
    "# To acces values in your list:\n",
    "first_elem = B[0] \n",
    "print(first_elem)"
   ]
  },
  {
   "cell_type": "markdown",
   "metadata": {},
   "source": [
    "**b.** Update the third element of B to 0."
   ]
  },
  {
   "cell_type": "code",
   "execution_count": 56,
   "metadata": {},
   "outputs": [
    {
     "name": "stdout",
     "output_type": "stream",
     "text": [
      "0\n",
      "[0, 2, 4, 0]\n"
     ]
    }
   ],
   "source": [
    "# Your impelementation here:\n",
    "B[2] = 4 # updated because of misinterpretation\n",
    "B[3] = 0\n",
    "print(B[3])\n",
    "print(B)"
   ]
  },
  {
   "cell_type": "code",
   "execution_count": 57,
   "metadata": {},
   "outputs": [
    {
     "name": "stdout",
     "output_type": "stream",
     "text": [
      "Updated list: [0, 2, 4, 0]\n"
     ]
    }
   ],
   "source": [
    "print('Updated list: {}'.format(B))\n",
    "assert B == [0, 2, 4, 0]"
   ]
  },
  {
   "cell_type": "markdown",
   "metadata": {},
   "source": [
    "**c.** Extract the middle elements from list B.\n",
    "\n",
    "Return a new list containing the objects between the corresponding start and stop indices, separated by `:`."
   ]
  },
  {
   "cell_type": "code",
   "execution_count": 60,
   "metadata": {},
   "outputs": [
    {
     "name": "stdout",
     "output_type": "stream",
     "text": [
      "[2, 4]\n"
     ]
    }
   ],
   "source": [
    "# Your implementation here:\n",
    "\n",
    "diff_elems = B[1:3]\n",
    "print(diff_elems)"
   ]
  },
  {
   "cell_type": "code",
   "execution_count": 61,
   "metadata": {},
   "outputs": [
    {
     "name": "stdout",
     "output_type": "stream",
     "text": [
      "Distinct elements of B: [2, 4]\n"
     ]
    }
   ],
   "source": [
    "print('Distinct elements of B: {}'.format(diff_elems))\n",
    "assert diff_elems == [2, 4]"
   ]
  },
  {
   "cell_type": "code",
   "execution_count": 63,
   "metadata": {},
   "outputs": [],
   "source": [
    "# Empty dictionary:\n",
    "my_dict = {} # alternative my_dict = dict()\n",
    "\n",
    "# Populating a dictionary:\n",
    "scientists_dict = {1: 'Geoffrey Hinton', \n",
    "                   2: 'Yoshua Bengio', \n",
    "                   3: 'Yann LeCun'}"
   ]
  },
  {
   "cell_type": "code",
   "execution_count": 73,
   "metadata": {},
   "outputs": [
    {
     "name": "stdout",
     "output_type": "stream",
     "text": [
      "Items: dict_items([(1, 'Geoffrey Hinton'), (2, 'Yoshua Bengio'), (3, 'Yann LeCun')])\n",
      "\n",
      "Keys: dict_keys([1, 2, 3])\n",
      "\n",
      " Values: dict_values(['Geoffrey Hinton', 'Yoshua Bengio', 'Yann LeCun'])\n",
      "\n"
     ]
    }
   ],
   "source": [
    "# Display items:\n",
    "print(\"Items: \" + str(scientists_dict.items()) + \"\\n\")\n",
    "\n",
    "# Keys:\n",
    "print(\"Keys: \" + str(scientists_dict.keys()) + \"\\n\") \n",
    "\n",
    "# Values:\n",
    "print(\" Values: \" + str(scientists_dict.values()) + \"\\n\")\n"
   ]
  },
  {
   "cell_type": "markdown",
   "metadata": {},
   "source": [
    "To access elements from a dictionary, we can apply `keys` inside `[]` or with `get()` method."
   ]
  },
  {
   "cell_type": "code",
   "execution_count": 74,
   "metadata": {},
   "outputs": [
    {
     "name": "stdout",
     "output_type": "stream",
     "text": [
      "Geoffrey Hinton\n"
     ]
    }
   ],
   "source": [
    "print(scientists_dict[1])"
   ]
  },
  {
   "cell_type": "code",
   "execution_count": 75,
   "metadata": {},
   "outputs": [],
   "source": [
    "del scientists_dict[3]"
   ]
  },
  {
   "cell_type": "markdown",
   "metadata": {},
   "source": [
    "### Task 3\n",
    "\n",
    "**a.** Fill the missing parts of the following sentences, and try to access the 3rd item of the dictionary, using both options presented above."
   ]
  },
  {
   "cell_type": "code",
   "execution_count": 79,
   "metadata": {},
   "outputs": [
    {
     "name": "stdout",
     "output_type": "stream",
     "text": [
      "None\n"
     ]
    }
   ],
   "source": [
    "# Your implementation here\n",
    "# Method 1\n",
    "# print(scientists_dict[3])\n",
    "# Method 2\n",
    "print(scientists_dict.get('Yann LeCun'))"
   ]
  },
  {
   "cell_type": "markdown",
   "metadata": {},
   "source": [
    "**b.** Now update the 3rd item of the dictionary with a _string_ as a key, `scientists_dict` becomes a collection with `mixed keys`.\n",
    " For this new key, add a researcher of your choice."
   ]
  },
  {
   "cell_type": "code",
   "execution_count": 81,
   "metadata": {},
   "outputs": [],
   "source": [
    "scientists_dict['someString'] = 'Marcus Huter'"
   ]
  },
  {
   "cell_type": "code",
   "execution_count": 82,
   "metadata": {},
   "outputs": [
    {
     "name": "stdout",
     "output_type": "stream",
     "text": [
      "Updated dictionary {1: 'Geoffrey Hinton', 2: 'Yoshua Bengio', 'someString': 'Marcus Huter'}\n"
     ]
    }
   ],
   "source": [
    "print('Updated dictionary {}'.format(scientists_dict))"
   ]
  },
  {
   "cell_type": "markdown",
   "metadata": {},
   "source": [
    "**c.** Presuming that `publications` dictionary stores the academic footprint (h-index) left by some of the well known researchers in the AI field, use `list comprehension` to obtain the number of publications.\n",
    "\n",
    "_Hint:_ Take into account only numeric values. "
   ]
  },
  {
   "cell_type": "code",
   "execution_count": 85,
   "metadata": {},
   "outputs": [],
   "source": [
    "publications = {'bengio' : 168,\n",
    "                'lecun' : 'computerVision',\n",
    "                'hinton' : 156,\n",
    "                'feifei' : 104,\n",
    "                'koller' : 142,\n",
    "                'elKaliouby' : 'emotionalAI'\n",
    "               }"
   ]
  },
  {
   "cell_type": "code",
   "execution_count": 98,
   "metadata": {},
   "outputs": [],
   "source": [
    "# Your implementation here:\n",
    "total_publications = sum(value for value in publications.values() \n",
    "                      if type(value) == int)"
   ]
  },
  {
   "cell_type": "code",
   "execution_count": 99,
   "metadata": {},
   "outputs": [
    {
     "name": "stdout",
     "output_type": "stream",
     "text": [
      "570\n"
     ]
    }
   ],
   "source": [
    "print(total_publications)"
   ]
  },
  {
   "cell_type": "code",
   "execution_count": 100,
   "metadata": {},
   "outputs": [],
   "source": [
    "assert total_publications == 570"
   ]
  },
  {
   "cell_type": "markdown",
   "metadata": {},
   "source": [
    "### Task 4\n",
    "\n",
    "Create a new string from even numbered characters in `my_str = awareness`. Please use an idiomatic loop."
   ]
  },
  {
   "cell_type": "code",
   "execution_count": 113,
   "metadata": {},
   "outputs": [
    {
     "name": "stdout",
     "output_type": "stream",
     "text": [
      "aaees\n"
     ]
    }
   ],
   "source": [
    "# Your implementation\n",
    "\n",
    "my_str = 'awareness'\n",
    "new_str = ''\n",
    "\n",
    "for i in range(0, len(my_str), 2):\n",
    "     new_str += my_str[i]\n",
    "\n",
    "print(new_str)"
   ]
  },
  {
   "cell_type": "code",
   "execution_count": 114,
   "metadata": {},
   "outputs": [],
   "source": [
    "assert new_str == 'aaees'"
   ]
  },
  {
   "cell_type": "markdown",
   "metadata": {},
   "source": [
    "### Task 5\n",
    "\n",
    "Given `n = 9`, write a script to generate a dictionary that contains integer `keys ∈ [1, 9]`.\n",
    "\n",
    "**a.** Your values should be computed by the following formula:\n",
    "\n",
    "\\begin{equation*}\n",
    "values   = ax^2 + bx,\n",
    "\\end{equation*}\n",
    "\n",
    "where x is also an integer number between 1 and n, a=2 and b=3.\n",
    "\n",
    "**b.** Split the values from the dictionary that are divisible by 3, respectively 2, into two different lists.\n",
    "\n",
    "**c.** Check if the two lists from point _b._ have any element in common, and create a new list (sorted) removing their intersection. "
   ]
  },
  {
   "cell_type": "code",
   "execution_count": 127,
   "metadata": {},
   "outputs": [
    {
     "name": "stdout",
     "output_type": "stream",
     "text": [
      "{1: 5, 2: 14, 3: 27, 4: 44, 5: 65, 6: 90, 7: 119, 8: 152, 9: 189}\n",
      "[14, 44, 90, 152]\n",
      "[27, 90, 189]\n",
      "[14, 27, 44, 90, 152, 189]\n"
     ]
    }
   ],
   "source": [
    "n = 9\n",
    "a = 2\n",
    "b = 3\n",
    "\n",
    "my_dict = {x: a * (x ** 2) + b * x for x in range(1, n+1)}\n",
    "\n",
    "print(my_dict)\n",
    "\n",
    "div_by_2 = list(value for value in my_dict.values() if value % 2 == 0)\n",
    "div_by_3 = list(value for value in my_dict.values() if value % 3 == 0)\n",
    "\n",
    "print(div_by_2)\n",
    "print(div_by_3)\n",
    "\n",
    "intersection = set(div_by_3).intersection(set(div_by_2))\n",
    "finalSet = sorted(set(div_by_2) | set(div_by_3) - intersection)\n",
    "\n",
    "print(finalSet)\n",
    "\n",
    "\n",
    "\n",
    "    "
   ]
  },
  {
   "cell_type": "markdown",
   "metadata": {},
   "source": [
    "### Default Arguments"
   ]
  },
  {
   "cell_type": "code",
   "execution_count": 128,
   "metadata": {},
   "outputs": [],
   "source": [
    "def volume_cone(height, radius=2.4):\n",
    "    pi = 3.14\n",
    "    return pi * radius ** 2 * height / 3"
   ]
  },
  {
   "cell_type": "code",
   "execution_count": 129,
   "metadata": {},
   "outputs": [
    {
     "name": "stdout",
     "output_type": "stream",
     "text": [
      "The volume of a cone is: 54.2592\n"
     ]
    }
   ],
   "source": [
    "# Case1: radius is omitted in volume_cone function call.\n",
    "v = volume_cone(height=9) # height is passed in by name\n",
    "print('The volume of a cone is: {}' .format(v))"
   ]
  },
  {
   "cell_type": "code",
   "execution_count": 130,
   "metadata": {},
   "outputs": [
    {
     "name": "stdout",
     "output_type": "stream",
     "text": [
      "The volume of a cone is: 84.78\n"
     ]
    }
   ],
   "source": [
    "# Case2: the default value of radius=2.4 is overwritten.\n",
    "v = volume_cone(9, 3) # height and radius are passed in by position\n",
    "print('The volume of a cone is: {}' .format(v))"
   ]
  },
  {
   "cell_type": "markdown",
   "metadata": {},
   "source": [
    "### Task 6\n",
    "\n",
    "**a.** Call the function name with appropriate parameters in the code section below."
   ]
  },
  {
   "cell_type": "code",
   "execution_count": 132,
   "metadata": {},
   "outputs": [],
   "source": [
    "def choose_researcher(name):\n",
    "    print('The researcher I am going to present for Special Task is {}.' .format(name))"
   ]
  },
  {
   "cell_type": "code",
   "execution_count": 133,
   "metadata": {},
   "outputs": [
    {
     "name": "stdout",
     "output_type": "stream",
     "text": [
      "The researcher I am going to present for Special Task is FSP.\n"
     ]
    }
   ],
   "source": [
    "# Your implementation here:\n",
    "\n",
    "choose_researcher('FSP')"
   ]
  },
  {
   "cell_type": "code",
   "execution_count": 134,
   "metadata": {},
   "outputs": [
    {
     "name": "stdout",
     "output_type": "stream",
     "text": [
      "Practice\n",
      "ecitcarP\n"
     ]
    }
   ],
   "source": [
    "s = 'Practice makes perfect!'\n",
    "first_word = s[:8]\n",
    "print(first_word)\n",
    "first_word_reversed = first_word[::-1]\n",
    "print(first_word_reversed)"
   ]
  },
  {
   "cell_type": "markdown",
   "metadata": {},
   "source": [
    "**c.** Calculate the number of upper case letters, lower case letters and punctuation marks used in a given sentence.\n",
    "For the string used before, the output should be:\n",
    "\n",
    "`UPPER CASE 3, lower case 52 and punctuation marks 2.`\n",
    "\n",
    "_Note_: A set of built-in methods that you can use on strings are `str.upper()`, `str.isupper()` ,`str.lower()`, `str.islower()`, `str.title()`."
   ]
  },
  {
   "cell_type": "code",
   "execution_count": 150,
   "metadata": {},
   "outputs": [],
   "source": [
    "def compute_characters(sentence):\n",
    "    \n",
    "    upper_ch = 0\n",
    "    lower_ch = 0\n",
    "    puncts = 0\n",
    "    \n",
    "    for char in sentence:\n",
    "        if char.isupper():\n",
    "            upper_ch += 1\n",
    "        elif char.islower():\n",
    "            lower_ch += 1\n",
    "        elif char == '.':\n",
    "            puncts += 1\n",
    "    \n",
    "    print(\"Upper case \" + str(upper_ch) + \", lower case \" + str(lower_ch) + \" and punctuation marks \" + str(puncts) + \".\")"
   ]
  },
  {
   "cell_type": "code",
   "execution_count": 151,
   "metadata": {},
   "outputs": [
    {
     "name": "stdout",
     "output_type": "stream",
     "text": [
      "Upper case 3, lower case 52 and punctuation marks 1.\n",
      "None\n"
     ]
    }
   ],
   "source": [
    "myString = 'The AI journey is the perfect opportunity to expand one`s horizons.'\n",
    "print(compute_characters(myString))"
   ]
  },
  {
   "cell_type": "code",
   "execution_count": 152,
   "metadata": {},
   "outputs": [
    {
     "name": "stdout",
     "output_type": "stream",
     "text": [
      "9\n"
     ]
    }
   ],
   "source": [
    "def compute_sum(a, b):\n",
    "    return a + b\n",
    "print(compute_sum(4, 5))"
   ]
  },
  {
   "cell_type": "code",
   "execution_count": 153,
   "metadata": {},
   "outputs": [],
   "source": [
    "def compute_sum(*args):\n",
    "    print('Type of iterable object args {}.' .format(type(args)))\n",
    "    count = 0\n",
    "    for a in args:\n",
    "        count += a\n",
    "    return count"
   ]
  },
  {
   "cell_type": "code",
   "execution_count": 154,
   "metadata": {},
   "outputs": [
    {
     "name": "stdout",
     "output_type": "stream",
     "text": [
      "Type of iterable object args <class 'tuple'>.\n",
      "Result:  9.75\n"
     ]
    }
   ],
   "source": [
    "result = compute_sum(0.5, 2.25, 7)\n",
    "print('Result: ', result)"
   ]
  },
  {
   "cell_type": "markdown",
   "metadata": {},
   "source": [
    "**Obs:** The `args` argument is a name, the key-element is the unpacking operator `*`."
   ]
  },
  {
   "cell_type": "markdown",
   "metadata": {},
   "source": [
    "### Task 7\n",
    "\n",
    "**a.** Define a tuple of integers containing your day and birthday month, followed by your initials written as characters. Then replace the numbers within the list with the current date."
   ]
  },
  {
   "cell_type": "code",
   "execution_count": 156,
   "metadata": {},
   "outputs": [
    {
     "name": "stdout",
     "output_type": "stream",
     "text": [
      "(24, 7, 'P', 'F')\n"
     ]
    }
   ],
   "source": [
    "# Define tuple and replace its integers:\n",
    "my_tuple = (24, 7, 'P', 'F')\n",
    "print(my_tuple)"
   ]
  },
  {
   "cell_type": "code",
   "execution_count": 157,
   "metadata": {},
   "outputs": [
    {
     "name": "stdout",
     "output_type": "stream",
     "text": [
      "(3, 10, 'P', 'F')\n"
     ]
    }
   ],
   "source": [
    "# How can tuple's values be changed?\n",
    "updated_tuple = (3, 10, my_tuple[2], my_tuple[3])\n",
    "print(updated_tuple)"
   ]
  },
  {
   "cell_type": "markdown",
   "metadata": {},
   "source": [
    "Find the difference between `lists` and `tuples`.\n",
    "\n",
    "`Lists` are ___MUTABLE_________ while `tuples` are __IMMUTABLE___."
   ]
  },
  {
   "cell_type": "markdown",
   "metadata": {},
   "source": [
    "**b.** `**kwargs` has a similar role as `*args` for _keyword arguments_. Define a function in which the arguments are passed as a standard dictionary. \n",
    "\n",
    "Given the follwing informations:\n",
    "\n",
    "```python\n",
    "Student Firstname: kwarg1\n",
    "Student Lastname: kwarg2\n",
    "Research Interests: kwarg3\n",
    "Thesis Proposal: kwarg4\n",
    "```\n",
    "\n",
    "Your output should look like:\n",
    "\n",
    "`[Student Name] is interested in [fields collection] and wrote [thesis proposal name].`,  if `kwargs4` exists.\n",
    "\n",
    "`[Student Name] is interested in [fields collection].`, otherwise."
   ]
  },
  {
   "cell_type": "code",
   "execution_count": 162,
   "metadata": {},
   "outputs": [],
   "source": [
    "# Your implementation here:\n",
    "\n",
    "def student_info(**kwargs):\n",
    "    \n",
    "    first_name = kwargs.get('kwarg1', 'Unknown')\n",
    "    last_name = kwargs.get('kwarg2', 'Unknown')\n",
    "    research_interests = kwargs.get('kwarg3', 'Unknown')\n",
    "    thesis_proposal = kwargs.get('kwarg4', None)\n",
    "\n",
    "    student_name = f\"{first_name} {last_name}\"\n",
    "\n",
    "    if thesis_proposal:\n",
    "        output = f\"{student_name} is interested in {research_interests} and wrote {thesis_proposal}.\"\n",
    "    else:\n",
    "        output = f\"{student_name} is interested in {research_interests}.\"\n",
    "\n",
    "    print(output)"
   ]
  },
  {
   "cell_type": "code",
   "execution_count": 163,
   "metadata": {},
   "outputs": [
    {
     "name": "stdout",
     "output_type": "stream",
     "text": [
      "John Doe is interested in AI and wrote AI in biotech...\n",
      "Jane Smith is interested in DE.\n"
     ]
    }
   ],
   "source": [
    "student_info(kwarg1=\"John\", kwarg2=\"Doe\", kwarg3=\"AI\", kwarg4=\"AI in biotech..\")\n",
    "student_info(kwarg1=\"Jane\", kwarg2=\"Smith\", kwarg3=\"DE\")"
   ]
  },
  {
   "cell_type": "markdown",
   "metadata": {},
   "source": [
    "**The unpacking procedure**\n",
    "\n",
    "The `*` single asterisk operator can extract the content of any iterable object, while the `**` double-asterisk operates on dictionaries."
   ]
  },
  {
   "cell_type": "code",
   "execution_count": 16,
   "metadata": {},
   "outputs": [
    {
     "name": "stdout",
     "output_type": "stream",
     "text": [
      "[0, 1, 4, 9, 16]\n"
     ]
    }
   ],
   "source": [
    "numbers = [x**2 for x in range(5)]\n",
    "print(numbers)"
   ]
  },
  {
   "cell_type": "code",
   "execution_count": 17,
   "metadata": {},
   "outputs": [
    {
     "name": "stdout",
     "output_type": "stream",
     "text": [
      "0 1 4 9 16\n"
     ]
    }
   ],
   "source": [
    "print(*numbers)"
   ]
  }
 ],
 "metadata": {
  "kernelspec": {
   "display_name": "Python 3 (ipykernel)",
   "language": "python",
   "name": "python3"
  },
  "language_info": {
   "codemirror_mode": {
    "name": "ipython",
    "version": 3
   },
   "file_extension": ".py",
   "mimetype": "text/x-python",
   "name": "python",
   "nbconvert_exporter": "python",
   "pygments_lexer": "ipython3",
   "version": "3.12.2"
  }
 },
 "nbformat": 4,
 "nbformat_minor": 4
}
