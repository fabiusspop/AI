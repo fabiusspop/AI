{
 "cells": [
  {
   "cell_type": "markdown",
   "metadata": {},
   "source": [
    "# Artificial Intelligence \n",
    "\n",
    "## _Constraint Satisfaction Problems (CSPs)_\n"
   ]
  },
  {
   "cell_type": "markdown",
   "metadata": {},
   "source": [
    "## Introduction\n",
    "\n",
    "**Constraint Satisfaction Problems** are defined by:\n",
    "* a collection of discrete **variables**;\n",
    "* a **domain (range) of values** for each variable;\n",
    "* a set of **constraints** over variables."
   ]
  },
  {
   "cell_type": "markdown",
   "metadata": {},
   "source": [
    "## From definitions to know-how"
   ]
  },
  {
   "cell_type": "code",
   "execution_count": 2,
   "metadata": {},
   "outputs": [],
   "source": [
    "# Useful libraries:\n",
    "from copy import deepcopy\n",
    "from itertools import combinations"
   ]
  },
  {
   "cell_type": "markdown",
   "metadata": {},
   "source": [
    "Pythonic speaking:\n",
    "  - each variable will be represented by a string,\n",
    "  \n",
    "```python\n",
    "    vars_list = ['A', 'B', 'C']\n",
    "```\n",
    "\n",
    "   - the set of domains will be a dictionary with one entry for each variable:\n",
    "     + the key will be the name of the variable,\n",
    "     + the value is given by the range values of that variable\n",
    "\n",
    "```python\n",
    "    domains_dict = {'A': [1, 2, 3], 'B': [1, 5, 9], 'C': [-2, -1]}\n",
    "```\n",
    "\n",
    "   - a constraint will be represented by a `tuple` consisting of:\n",
    "     + a `list` of variables involved in the constraint\n",
    "     + an anonymous function that returns `True` or `False`\n",
    "\n",
    "```python\n",
    "    constraints = [(['A', 'B', 'C'], lambda a, b, c: a + b + c == 0)]\n",
    "```\n",
    "\n",
    "The **solution** will be represented through a dictionary that indicates a value for each variable (e.g. `{'A': 1,'B': 1,'C': -2}`).\n",
    "\n",
    "The **cost** is given by the number of constraints ignored by the solution."
   ]
  },
  {
   "cell_type": "markdown",
   "metadata": {},
   "source": [
    "Math Problem"
   ]
  },
  {
   "cell_type": "code",
   "execution_count": 3,
   "metadata": {},
   "outputs": [],
   "source": [
    "VarsA = [\"A\", \"B\", \"C\", \"D\", \"E\"]\n",
    "DomainsA = {v: [i for i in range(10)] for v in VarsA}\n",
    "ConstraintsA = [(list(p), lambda x,y: x != y) for p in combinations(VarsA, 2)] # all the values are different\n",
    "ConstraintsA.append(([\"A\",\"B\"], lambda a, b: a + b == 10))\n",
    "ConstraintsA.append(([\"B\",\"D\"], lambda b, d: b + d == 6))\n",
    "ConstraintsA.append(([\"C\"], lambda c: c < 5))\n",
    "ConstraintsA.append(([\"A\"], lambda a: a > 5))\n",
    "ConstraintsA.append(([\"A\",\"B\",\"C\",\"D\",\"E\"], lambda a, b, c, d, e: a + b + c + d + e == 30))\n",
    "MathProblem = {\"Vars\": VarsA, \"Domains\": DomainsA, \"Constraints\": ConstraintsA}"
   ]
  },
  {
   "cell_type": "markdown",
   "metadata": {},
   "source": [
    "Map-Coloring Problem"
   ]
  },
  {
   "cell_type": "code",
   "execution_count": 4,
   "metadata": {},
   "outputs": [],
   "source": [
    "VarsC = [\"France\", \"Germany\", \"Loux\", \"Belgium\", \"Netherlands\"]\n",
    "DomainsC = {v: [\"blue\", \"red\", \"yellow\", \"green\"] for v in VarsC}\n",
    "ConstraintsC = []\n",
    "for (a, b) in [(\"France\", \"Germany\"), (\"France\", \"Belgium\"), (\"France\", \"Loux\"),\n",
    "               (\"Belgium\", \"Netherlands\"), (\"Belgium\", \"Loux\"), (\"Belgium\", \"Germany\"),\n",
    "               (\"Loux\", \"Germany\"), (\"Netherlands\", \"Germany\")]:\n",
    "    ConstraintsC.append(([a, b], lambda a, b: a != b))\n",
    "ColoringProblem = {\"Vars\": VarsC, \"Domains\": DomainsC, \"Constraints\": ConstraintsC}"
   ]
  },
  {
   "cell_type": "markdown",
   "metadata": {},
   "source": [
    "### Task 0\n",
    "\n",
    "Implement `get_constraints` function which receives a variable `var` and a list of constraints `constraints` and return only those constraints that entail the given variable.\n",
    "\n",
    "_Expected output:_\n",
    "\n",
    "```\n",
    "Constraints = [([\"A\", \"B\"], lambda a,b: a<b), ([\"A\"], lambda a: a<5)]\n",
    "get_constraints(\"B\", Constraints)\n",
    "==> [([\"A\", \"B\"], lambda a,b: a<b)]\n",
    "get_constraints(\"A\", Constraints)\n",
    "==> [([\"A\", \"B\"], lambda a,b: a<b), ([\"A\"], lambda a: a<5)]\n",
    "```"
   ]
  },
  {
   "cell_type": "code",
   "execution_count": 5,
   "metadata": {},
   "outputs": [
    {
     "data": {
      "text/plain": [
       "[(['France', 'Germany'], <function __main__.<lambda>(a, b)>),\n",
       " (['France', 'Belgium'], <function __main__.<lambda>(a, b)>),\n",
       " (['France', 'Loux'], <function __main__.<lambda>(a, b)>)]"
      ]
     },
     "execution_count": 5,
     "metadata": {},
     "output_type": "execute_result"
    }
   ],
   "source": [
    "def get_constraints(var, constraints):\n",
    "    return [c for c in constraints if var in c[0]]\n",
    "\n",
    "get_constraints(\"France\", ConstraintsC) # => [(['France', 'Germany'], ...), (['France', 'Belgium'], ...), (['France', 'Loux'], ...)]"
   ]
  },
  {
   "cell_type": "markdown",
   "metadata": {},
   "source": [
    "### Task 1\n",
    "\n",
    "Implement the `fixed_constraints` function which receives `solution` as a partial solution and a set of constraints `constraints`. The function returns only those constraints that can be evaluated (i.e. the variables involved are found in the partial solution)."
   ]
  },
  {
   "cell_type": "code",
   "execution_count": 6,
   "metadata": {},
   "outputs": [
    {
     "name": "stdout",
     "output_type": "stream",
     "text": [
      "[(['France', 'Belgium'], <function <lambda> at 0x000001E65A08BF60>)]\n",
      "[(['A', 'C'], <function <lambda> at 0x000001E65A08ACA0>), (['C'], <function <lambda> at 0x000001E65A08BA60>), (['A'], <function <lambda> at 0x000001E65A08BB00>)]\n"
     ]
    }
   ],
   "source": [
    "def fixed_constraints(solution, constraints):\n",
    "    return [c for c in constraints if all(var in solution for var in c[0])]\n",
    "\n",
    "print(fixed_constraints({\"France\": \"blue\", \"Belgium\": \"green\"}, ConstraintsC)) # => [(['France', 'Belgium'], ...)]\n",
    "print(fixed_constraints({\"A\": \"1\", \"C\": \"2\"}, ConstraintsA)) # => [(['A', 'C'], ...), (['C'], ...), (['A'], ...)]"
   ]
  },
  {
   "cell_type": "markdown",
   "metadata": {},
   "source": [
    "### Task 2\n",
    "\n",
    "Implement the `check_constraint` function which receives as a constraint the variable `constraint`, a partial solution `solution` and returns `True` if the solution respects the constraint and `False` otherwise.\n",
    "\n",
    "_**Hint:**_ to call a function knowing the list of its parameters use `f(*args)`, where `args` is the list of arguments."
   ]
  },
  {
   "cell_type": "code",
   "execution_count": 7,
   "metadata": {},
   "outputs": [
    {
     "name": "stdout",
     "output_type": "stream",
     "text": [
      "True\n",
      "False\n",
      "True\n",
      "False\n"
     ]
    }
   ],
   "source": [
    "def check_constraint(solution, constraint):\n",
    "    if all(v in solution for v in constraint[0]):\n",
    "        return constraint[1](*[solution[v] for v in constraint[0]])\n",
    "    else:\n",
    "     return False\n",
    "\n",
    "print(check_constraint({\"France\": \"blue\", \"Belgium\": \"green\"}, ConstraintsC[1])) # => True\n",
    "print(check_constraint({\"France\": \"blue\", \"Belgium\": \"blue\"}, ConstraintsC[1])) # => False\n",
    "print(check_constraint({\"C\": 10, \"A\": 10}, ConstraintsA[-2])) \n",
    "print(check_constraint({\"C\": 10, \"A\": 3}, ConstraintsA[-2])) "
   ]
  },
  {
   "cell_type": "markdown",
   "metadata": {},
   "source": [
    "### Task 3: PCSP algorithm\n",
    "\n",
    "Fill in what is missing in the PCSP algorithm.\n",
    "\n",
    "* `vars` - variables that remain to be checked\n",
    "* `domains` - the domains for the variables that remain to be verified, with the values that remain to be verified for each variable\n",
    "* `constrains` - the list of constraints\n",
    "* `acceptable_cost` - the cost for which the solution is considered satisfactory\n",
    "* `solution` - the partial solution, containing values for the variables checked so far\n",
    "* `cost` - the cost of unsatisfied constraints\n",
    "\n",
    "Function return value is `True` if a satisfactory complete solution has been found (see acceptable cost), and `False` otherwise.\n",
    "\n",
    "Two global variables are used:\n",
    "\n",
    "* `best_cost` - the best (smallest) cost so far in exploration, for a complete solution\n",
    "* `best_solution` - the solution corresponding to the best cost"
   ]
  },
  {
   "cell_type": "code",
   "execution_count": 8,
   "metadata": {},
   "outputs": [
    {
     "name": "stdout",
     "output_type": "stream",
     "text": [
      "New best: 14 - {'A': 0, 'B': 0, 'C': 0, 'D': 0, 'E': 0}\n",
      "New best: 10 - {'A': 0, 'B': 0, 'C': 0, 'D': 0, 'E': 1}\n",
      "New best: 8 - {'A': 0, 'B': 0, 'C': 0, 'D': 1, 'E': 1}\n",
      "New best: 7 - {'A': 0, 'B': 0, 'C': 0, 'D': 1, 'E': 2}\n",
      "New best: 6 - {'A': 0, 'B': 0, 'C': 0, 'D': 6, 'E': 1}\n",
      "New best: 5 - {'A': 0, 'B': 0, 'C': 1, 'D': 2, 'E': 3}\n",
      "New best: 4 - {'A': 0, 'B': 0, 'C': 1, 'D': 6, 'E': 2}\n",
      "New best: 3 - {'A': 0, 'B': 1, 'C': 2, 'D': 5, 'E': 3}\n",
      "New best: 2 - {'A': 2, 'B': 8, 'C': 4, 'D': 7, 'E': 9}\n",
      "New best: 1 - {'A': 6, 'B': 4, 'C': 0, 'D': 2, 'E': 1}\n",
      "Best found: 1 - {'A': 6, 'B': 4, 'C': 0, 'D': 2, 'E': 1}\n",
      "New best: 6 - {'France': 'blue', 'Germany': 'blue', 'Loux': 'blue', 'Belgium': 'blue', 'Netherlands': 'red'}\n",
      "New best: 4 - {'France': 'blue', 'Germany': 'blue', 'Loux': 'blue', 'Belgium': 'red', 'Netherlands': 'blue'}\n",
      "New best: 3 - {'France': 'blue', 'Germany': 'blue', 'Loux': 'blue', 'Belgium': 'red', 'Netherlands': 'yellow'}\n",
      "New best: 2 - {'France': 'blue', 'Germany': 'blue', 'Loux': 'red', 'Belgium': 'red', 'Netherlands': 'yellow'}\n",
      "New best: 1 - {'France': 'blue', 'Germany': 'blue', 'Loux': 'red', 'Belgium': 'yellow', 'Netherlands': 'red'}\n",
      "Best found: 1 - {'France': 'blue', 'Germany': 'blue', 'Loux': 'red', 'Belgium': 'yellow', 'Netherlands': 'red'}\n"
     ]
    }
   ],
   "source": [
    "def PCSP(vars, domains, constraints, acceptable_cost, solution, cost):\n",
    "    global best_solution\n",
    "    global best_cost\n",
    "    if not vars:\n",
    "        # If there are no more variables, we have reached a better solution\n",
    "        print(\"New best: \" + str(cost) + \" - \" + str(solution))\n",
    "        # TODO: save the newly discovered solution\n",
    "        # TODO: if it is good enough, the function returns True\n",
    "        if cost < best_cost:\n",
    "            best_cost = cost\n",
    "            best_solution = deepcopy(solution)\n",
    "            return cost <= acceptable_cost\n",
    "        else:\n",
    "            return False\n",
    "\n",
    "    elif not domains[vars[0]]:\n",
    "        # If there are no more values in the domains, the searching process ends\n",
    "        return False\n",
    "    elif cost == best_cost:\n",
    "        # If we have already reached a cost identical with the one of the best solution, we will not go any further\n",
    "        return False\n",
    "    else:\n",
    "        # TODO: Choose the first variable and the first value in the domains (and remove it from domain)\n",
    "        var = vars[0]\n",
    "        val = domains[var].pop(0) # REMOVE IT FROM THE DOMAIN...\n",
    "\n",
    "        # TODO: Build the new solution\n",
    "        new_solution = {}\n",
    "        new_solution = deepcopy(solution)\n",
    "        new_solution[var] = val\n",
    "\n",
    "        # TODO: We get the list of constraints that can be evaluated\n",
    "        # TODO: We compute the cost of the new partial solution (each constraint ignored = 1)\n",
    "        new_cost = 0\n",
    "        for c in fixed_constraints(new_solution, constraints):\n",
    "            if not check_constraint(new_solution, c):\n",
    "                new_cost += 1\n",
    "\n",
    "        # We check if the new cost is lower than the best cost\n",
    "        if new_cost < best_cost:\n",
    "            # TODO:\n",
    "            pass\n",
    "            # If the new cost is lower than the best known, we solve for the rest of the variables\n",
    "            # If the recursive call returns True, a good enough solution has been found, so we return True\n",
    "            if(PCSP(vars[1:], deepcopy(domains), constraints, acceptable_cost, new_solution, new_cost)):\n",
    "              return True\n",
    "\n",
    "\n",
    "\n",
    "        # Check for the rest of the values\n",
    "        # TODO:\n",
    "        return PCSP(vars, domains, constraints, acceptable_cost, solution, cost)\n",
    "    \n",
    "# A wrapper that instantiates global variables\n",
    "def run_pcsp(problem, acceptable_cost):\n",
    "    global best_solution\n",
    "    global best_cost\n",
    "\n",
    "    [vars, domains, constraints] = [problem[e] for e in [\"Vars\", \"Domains\", \"Constraints\"]]\n",
    "    \n",
    "    best_solution = {}\n",
    "    best_cost = len(constraints)\n",
    "\n",
    "    if PCSP(vars, deepcopy(domains), constraints, acceptable_cost, {}, 0):\n",
    "        print(\"Best found: \" + str(best_cost) + \" - \" + str(best_solution))\n",
    "    else:\n",
    "        print(\"Acceptable solution not found; \" + \"Best found: \" + str(best_cost) + \" - \" + str(best_solution))\n",
    "        \n",
    "# Run the algorithm\n",
    "run_pcsp(MathProblem, 1)\n",
    "run_pcsp(ColoringProblem, 1)"
   ]
  },
  {
   "cell_type": "markdown",
   "metadata": {},
   "source": [
    "Expected output for numbers:\n",
    "\n",
    "```\n",
    "New best: 14 - {'A': 0, 'B': 0, 'C': 0, 'D': 0, 'E': 0}\n",
    "New best: 10 - {'A': 0, 'B': 0, 'C': 0, 'D': 0, 'E': 1}\n",
    "New best: 8 - {'A': 0, 'B': 0, 'C': 0, 'D': 1, 'E': 1}\n",
    "New best: 7 - {'A': 0, 'B': 0, 'C': 0, 'D': 1, 'E': 2}\n",
    "New best: 6 - {'A': 0, 'B': 0, 'C': 0, 'D': 6, 'E': 1}\n",
    "New best: 5 - {'A': 0, 'B': 0, 'C': 1, 'D': 2, 'E': 3}\n",
    "New best: 4 - {'A': 0, 'B': 0, 'C': 1, 'D': 6, 'E': 2}\n",
    "New best: 3 - {'A': 0, 'B': 1, 'C': 2, 'D': 5, 'E': 3}\n",
    "New best: 2 - {'A': 2, 'B': 8, 'C': 4, 'D': 7, 'E': 9}\n",
    "New best: 1 - {'A': 6, 'B': 4, 'C': 0, 'D': 2, 'E': 1}\n",
    "Best found: 1 - {'A': 6, 'B': 4, 'C': 0, 'D': 2, 'E': 1}\n",
    "```\n",
    "\n",
    "Expected output for country colors:\n",
    "\n",
    "```\n",
    "New best:  8  -  {'Loux': 'blue', 'Belgium': 'blue', 'Netherlands': 'blue', 'Germany': 'blue', 'France': 'blue'}\n",
    "New best:  6  -  {'Loux': 'blue', 'Belgium': 'blue', 'Netherlands': 'red', 'Germany': 'blue', 'France': 'blue'}\n",
    "New best:  4  -  {'Loux': 'blue', 'Belgium': 'red', 'Netherlands': 'blue', 'Germany': 'blue', 'France': 'blue'}\n",
    "New best:  3  -  {'Loux': 'blue', 'Belgium': 'red', 'Netherlands': 'yellow', 'Germany': 'blue', 'France': 'blue'}\n",
    "New best:  2  -  {'Loux': 'red', 'Belgium': 'red', 'Netherlands': 'yellow', 'Germany': 'blue', 'France': 'blue'}\n",
    "New best:  1  -  {'Loux': 'red', 'Belgium': 'yellow', 'Netherlands': 'red', 'Germany': 'blue', 'France': 'blue'}\n",
    "Best found: 1  -  {'Loux': 'red', 'Belgium': 'yellow', 'Netherlands': 'red', 'Germany': 'blue', 'France': 'blue'}\n",
    "```"
   ]
  },
  {
   "cell_type": "markdown",
   "metadata": {},
   "source": []
  }
 ],
 "metadata": {
  "kernelspec": {
   "display_name": "Python 3 (ipykernel)",
   "language": "python",
   "name": "python3"
  },
  "language_info": {
   "codemirror_mode": {
    "name": "ipython",
    "version": 3
   },
   "file_extension": ".py",
   "mimetype": "text/x-python",
   "name": "python",
   "nbconvert_exporter": "python",
   "pygments_lexer": "ipython3",
   "version": "3.12.7"
  }
 },
 "nbformat": 4,
 "nbformat_minor": 4
}
