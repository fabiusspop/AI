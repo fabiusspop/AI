{
 "cells": [
  {
   "cell_type": "markdown",
   "metadata": {
    "id": "gVtTU731ugud"
   },
   "source": [
    "# Artificial Intelligence - Fall 2024 - Laboratory 02:Python Introduction part II\n"
   ]
  },
  {
   "cell_type": "markdown",
   "metadata": {},
   "source": [
    "##### Review"
   ]
  },
  {
   "cell_type": "markdown",
   "metadata": {},
   "source": [
    "The following formula computes a _Z score_ and measures how far a single raw data value is from the population mean.\n",
    "\n",
    "\\begin{equation*}\n",
    "z = \\frac{X - \\mu }{\\sigma }\n",
    "\\end{equation*}\n",
    "\n",
    "where:\n",
    "* **_X_** is a single raw data value\n",
    "* `mu` is the population mean\n",
    "* `sigma` is the population standard deviation\n",
    "\n",
    "To find the standard deviation, the equation below comes in hand:\n",
    "\n",
    "\\begin{equation*}\n",
    "\\sigma = \\sqrt{\\frac{\\sum \\left | X - \\mu \\right |^{2}}{N}}\n",
    "\\end{equation*}\n",
    "\n",
    "where **_N_** is the number of data points in the population."
   ]
  },
  {
   "cell_type": "markdown",
   "metadata": {},
   "source": [
    "**a.** Using `sum()` and `list comprehension`, compute the mean and the standard deviation for the population defined below:"
   ]
  },
  {
   "cell_type": "code",
   "execution_count": 5,
   "metadata": {},
   "outputs": [
    {
     "name": "stdout",
     "output_type": "stream",
     "text": [
      "[4.5, 5, 5.5, 6, 6.25, 7, 15.25, 18, 18.45, 21, 21.45, 23]\n"
     ]
    }
   ],
   "source": [
    "data =  [4.5, 5, 5.5, 6, 6.25, 7, 15.25, 18, 18.45, 21, 21.45, 23]\n",
    "print(data)"
   ]
  },
  {
   "cell_type": "code",
   "execution_count": 7,
   "metadata": {},
   "outputs": [],
   "source": [
    "import math "
   ]
  },
  {
   "cell_type": "code",
   "execution_count": 10,
   "metadata": {},
   "outputs": [
    {
     "name": "stdout",
     "output_type": "stream",
     "text": [
      "12.616666666666667\n",
      "7.167441818544622\n"
     ]
    }
   ],
   "source": [
    "# Your implementation here:\n",
    "mean = sum(data) / len(data)\n",
    "std = math.sqrt(sum([(X - mean)**2 for X in data]) / len(data))\n",
    "\n",
    "print(mean)\n",
    "print(std)"
   ]
  },
  {
   "cell_type": "markdown",
   "metadata": {},
   "source": [
    "**b.** Define the `z_score()` function and implement the mathematical expression. The obtained values should be stored in a _z score_ values list and rounded to 3 decimals."
   ]
  },
  {
   "cell_type": "code",
   "execution_count": 11,
   "metadata": {},
   "outputs": [],
   "source": [
    "# Your implementatio here:\n",
    "def z_score(X, mu, std):\n",
    "    return (X - mu) / std"
   ]
  },
  {
   "cell_type": "code",
   "execution_count": 14,
   "metadata": {},
   "outputs": [
    {
     "name": "stdout",
     "output_type": "stream",
     "text": [
      "[-1.132, -1.063, -0.993, -0.923, -0.888, -0.784, 0.367, 0.751, 0.814, 1.17, 1.232, 1.449]\n"
     ]
    }
   ],
   "source": [
    "z_score_all = [round(z_score(X, mean, std), 3) for X in data]\n",
    "\n",
    "print(z_score_all)"
   ]
  },
  {
   "cell_type": "markdown",
   "metadata": {},
   "source": [
    "**c.** Add the corresponding elongation of each raw data value into a dictionary."
   ]
  },
  {
   "cell_type": "code",
   "execution_count": 19,
   "metadata": {},
   "outputs": [
    {
     "name": "stdout",
     "output_type": "stream",
     "text": [
      "{4.5: -1.132, 5: -1.063, 5.5: -0.993, 6: -0.923, 6.25: -0.888, 7: -0.784, 15.25: 0.367, 18: 0.751, 18.45: 0.814, 21: 1.17, 21.45: 1.232, 23: 1.449}\n"
     ]
    }
   ],
   "source": [
    "# Your implementatio here:\n",
    "elongation_dict = {X: round(z_score(X, mean, std), 3) for X in data}\n",
    "print(elongation_dict)"
   ]
  },
  {
   "cell_type": "code",
   "execution_count": 124,
   "metadata": {
    "id": "XhgoWxJGuguk"
   },
   "outputs": [],
   "source": [
    "class ScientificConference:\n",
    "    \n",
    "    def __init__(self, name, year, papers = None):\n",
    "\n",
    "        self.name = name\n",
    "        self.year = year\n",
    "        self.papers = papers if papers is not None else {}\n",
    "    \n",
    "    def add_manuscript(self, title, researcher):\n",
    "        self.papers[researcher] = [title]           \n",
    "    \n",
    "    def __str__(self):\n",
    "        \n",
    "        result = f'{self.name} {self.year}: \\n'\n",
    "            \n",
    "        for author, papers in self.papers.items():\n",
    "            result += f'{author}: {\", \".join(papers)} \\n'\n",
    "        \n",
    "            \n",
    "        return result\n",
    "        "
   ]
  },
  {
   "cell_type": "markdown",
   "metadata": {
    "id": "6xdy3BZ7ugu1"
   },
   "source": [
    "### Task 0\n",
    "\n",
    "**a.** Define two new `instances` of the `class ScientificConference` and return their representations.\n",
    "\n",
    "Your output should look like:\n",
    "\n",
    "`Proposals for ICML and NeurIPS conferences will be accepted until the end of November 2021.`\n",
    "\n",
    "_Hint:_ `instance.attribute` helps you extracting a certain property."
   ]
  },
  {
   "cell_type": "code",
   "execution_count": 125,
   "metadata": {
    "id": "ezLUEAgkugu5"
   },
   "outputs": [
    {
     "name": "stdout",
     "output_type": "stream",
     "text": [
      "Proposals for ICML and NeurIPS conferences will be accepted until the end of November 2021.\n"
     ]
    }
   ],
   "source": [
    "# Your implementation here\n",
    "conference1 = ScientificConference('ICML', 2021)\n",
    "conference2 = ScientificConference('NeurIPS', 2021)\n",
    "\n",
    "print(f\"Proposals for {conference1.name} and {conference2.name} conferences will be accepted until the end of November {conference1.year}.\")\n",
    "\n"
   ]
  },
  {
   "cell_type": "markdown",
   "metadata": {
    "id": "7ZvLz1GZugvC"
   },
   "source": [
    "**b.** Create a new attribute for the `class ScientificConference`, which is a dictionary passed as a parameter to the instances of the class and holds all of the papers of the conference.\n",
    "\n",
    "_Note:_ You should check if `papers` is `None` in `__init__` and set it to `{}` instead.\n",
    "\n",
    "_Please handle duplicate entries by removing them!_"
   ]
  },
  {
   "cell_type": "markdown",
   "metadata": {
    "id": "Tw7tlZtTugvF"
   },
   "source": [
    "**c.** Define the `add_manuscript` method which generates new entries in the dictionary described before. Please consider using the _researcher_ as a `key` and the _title_ as `values`."
   ]
  },
  {
   "cell_type": "code",
   "execution_count": 126,
   "metadata": {},
   "outputs": [
    {
     "name": "stdout",
     "output_type": "stream",
     "text": [
      "ICML 2021: \n",
      "John: ManuscriptX \n",
      "Jane: Manuscriiiipt \n",
      "\n"
     ]
    }
   ],
   "source": [
    "conference1.add_manuscript(\"ManuscriptX\", 'John')\n",
    "conference1.add_manuscript(\"Manuscriiiipt\", 'Jane' )\n",
    "\n",
    "conference2.add_manuscript(\"Manuscripttt\", 'Jim')\n",
    "conference2.add_manuscript(\"Maaaanuuuuscript\", 'Jack')\n",
    "\n",
    "print(conference1)"
   ]
  },
  {
   "cell_type": "markdown",
   "metadata": {
    "id": "HUKrHifWugvP"
   },
   "source": [
    "### Task 1\n",
    "\n",
    "**a.** Define the class `Person` which stores the `title`, `name` and `surname` of a person.\n",
    "\n",
    "The _tuple_ `allowed_titles` is a class variable which helps to verify if the title of a person is \"Mr\", \"Mrs\", \"Ms\", \"Senior Researcher\", \"Professor of CS\" or \"Computer Scientist\".\n",
    "\n",
    "An error is returned if the title is not valid.\n",
    "\n",
    "Use `__str__` defined below:\n",
    "\n",
    "```python\n",
    "    def __str__(self):\n",
    "        return self.title + ' ' + self.surname + ' ' + self.name\n",
    "```"
   ]
  },
  {
   "cell_type": "markdown",
   "metadata": {
    "id": "ZcjB03J3ugva"
   },
   "source": [
    "**b.** Create two instances of the class Person and verify if the following entries are valid:\n",
    "\n",
    "* _Mr Ian Goodfellow_,\n",
    "* _SeniorResearcher Tomas Mikolov._"
   ]
  },
  {
   "cell_type": "code",
   "execution_count": 89,
   "metadata": {
    "id": "U8jKwHK8ugvc"
   },
   "outputs": [],
   "source": [
    "# Your implementation here\n",
    "class Person:\n",
    "\n",
    "    allowed_titles = (\"Mr\", \"Mrs\", \"Ms\", \"Senior Researcher\", \"Professor of CS\", \"Computer Scientist\")\n",
    "\n",
    "    def __init__(self, title, name, surname):\n",
    "\n",
    "        if title not in Person.allowed_titles:\n",
    "            raise ValueError(\"The title isn't right\")\n",
    "            \n",
    "        self.title = title\n",
    "        self.name = name\n",
    "        self.surname = surname\n",
    "\n",
    "    def __str__(self):\n",
    "        return self.title + ' ' + self.surname + ' ' + self.name\n",
    "        "
   ]
  },
  {
   "cell_type": "code",
   "execution_count": 61,
   "metadata": {},
   "outputs": [],
   "source": [
    "person1 = Person(\"Mr\", \"Ian\", \"Goodfellow\")"
   ]
  },
  {
   "cell_type": "code",
   "execution_count": 62,
   "metadata": {},
   "outputs": [
    {
     "ename": "ValueError",
     "evalue": "The title isn't right",
     "output_type": "error",
     "traceback": [
      "\u001b[1;31m---------------------------------------------------------------------------\u001b[0m",
      "\u001b[1;31mValueError\u001b[0m                                Traceback (most recent call last)",
      "Cell \u001b[1;32mIn[62], line 1\u001b[0m\n\u001b[1;32m----> 1\u001b[0m person2 \u001b[38;5;241m=\u001b[39m \u001b[43mPerson\u001b[49m\u001b[43m(\u001b[49m\u001b[38;5;124;43m\"\u001b[39;49m\u001b[38;5;124;43mSeniorResearcher\u001b[39;49m\u001b[38;5;124;43m\"\u001b[39;49m\u001b[43m,\u001b[49m\u001b[43m \u001b[49m\u001b[38;5;124;43m\"\u001b[39;49m\u001b[38;5;124;43mTomas\u001b[39;49m\u001b[38;5;124;43m\"\u001b[39;49m\u001b[43m,\u001b[49m\u001b[43m \u001b[49m\u001b[38;5;124;43m\"\u001b[39;49m\u001b[38;5;124;43mMikolov\u001b[39;49m\u001b[38;5;124;43m\"\u001b[39;49m\u001b[43m)\u001b[49m\n",
      "Cell \u001b[1;32mIn[59], line 9\u001b[0m, in \u001b[0;36mPerson.__init__\u001b[1;34m(self, title, name, surname)\u001b[0m\n\u001b[0;32m      6\u001b[0m \u001b[38;5;28;01mdef\u001b[39;00m \u001b[38;5;21m__init__\u001b[39m(\u001b[38;5;28mself\u001b[39m, title, name, surname):\n\u001b[0;32m      8\u001b[0m     \u001b[38;5;28;01mif\u001b[39;00m title \u001b[38;5;129;01mnot\u001b[39;00m \u001b[38;5;129;01min\u001b[39;00m Person\u001b[38;5;241m.\u001b[39mallowed_titles:\n\u001b[1;32m----> 9\u001b[0m         \u001b[38;5;28;01mraise\u001b[39;00m \u001b[38;5;167;01mValueError\u001b[39;00m(\u001b[38;5;124m\"\u001b[39m\u001b[38;5;124mThe title isn\u001b[39m\u001b[38;5;124m'\u001b[39m\u001b[38;5;124mt right\u001b[39m\u001b[38;5;124m\"\u001b[39m)\n\u001b[0;32m     11\u001b[0m     \u001b[38;5;28mself\u001b[39m\u001b[38;5;241m.\u001b[39mname \u001b[38;5;241m=\u001b[39m name\n\u001b[0;32m     12\u001b[0m     \u001b[38;5;28mself\u001b[39m\u001b[38;5;241m.\u001b[39msurname \u001b[38;5;241m=\u001b[39m surname\n",
      "\u001b[1;31mValueError\u001b[0m: The title isn't right"
     ]
    }
   ],
   "source": [
    "person2 = Person(\"SeniorResearcher\", \"Tomas\", \"Mikolov\")"
   ]
  },
  {
   "cell_type": "markdown",
   "metadata": {
    "id": "sJGqy2Zxugvm"
   },
   "source": [
    "### Task 2\n",
    "\n",
    "In `ScientificConference` we have been using the paper parameter as a string, but this concept requires a detailed structure.\n",
    "\n",
    "Introduce a new class, `Paper`, which has the following attributes:\n",
    "\n",
    "* `authors`, \n",
    "* `title`, \n",
    "* `a_id`,\n",
    "* `year`, \n",
    "* `status` (published or in development), \n",
    "* `peer_rating` (Excellent, Good, Fair, Poor, Barely Acceptable, Unacceptable)."
   ]
  },
  {
   "cell_type": "code",
   "execution_count": 69,
   "metadata": {
    "id": "1hPZ7q3rugvn"
   },
   "outputs": [],
   "source": [
    "class Paper:\n",
    "\n",
    "    allowed_status = (\"published\", \"in development\")\n",
    "\n",
    "    allowed_peer_rating = (\"Excellent\", \"Good\", \"Fair\", \"Poor\", \"Barely Acceptable\", \"Unacceptable\")\n",
    "    \n",
    "    def __init__(self, authors, title, a_id, status, year, peer_rating):\n",
    "        \n",
    "        if status not in Paper.allowed_status:\n",
    "            raise ValueError(\"The status isn't right\")\n",
    "\n",
    "        if peer_rating not in Paper.allowed_peer_rating:\n",
    "            raise ValueError(\"The peer rating isn't right\")\n",
    "\n",
    "        self.authors = authors\n",
    "        self.title = title\n",
    "        self.a_id = a_id\n",
    "        self.status = status\n",
    "        self.year = year\n",
    "        self.peer_rating = peer_rating\n",
    "        \n",
    "\n",
    "    def __str__(self):\n",
    "        return  f'{self.title}, {\", \".join([author for author in self.authors])} et al. ({self.year}), a_id: '\\\n",
    "                f'{self.a_id}, status: {self.status}, rating: {self.peer_rating}'"
   ]
  },
  {
   "cell_type": "code",
   "execution_count": 70,
   "metadata": {},
   "outputs": [
    {
     "name": "stdout",
     "output_type": "stream",
     "text": [
      "Deep Learning, Yann LeCun, Yoshua Bengio, Geoffrey Hinton et al. (2015), a_id: https://doi.org/10.1038/nature14539, status: published, rating: Excellent\n"
     ]
    }
   ],
   "source": [
    "paper1 = Paper(\n",
    "    authors=[\"Yann LeCun\", \"Yoshua Bengio\", \"Geoffrey Hinton\"],\n",
    "    title=\"Deep Learning\",\n",
    "    a_id=\"https://doi.org/10.1038/nature14539\",\n",
    "    year=2015,\n",
    "    status=\"published\",\n",
    "    peer_rating=\"Excellent\"\n",
    ")\n",
    "\n",
    "print(paper1)"
   ]
  },
  {
   "cell_type": "markdown",
   "metadata": {
    "id": "j82CL54Augvv"
   },
   "source": [
    "## Inheritence\n",
    "\n",
    "In Object-Oriented programming, this concept enables us to transfer the methods and the properties of a class to another class."
   ]
  },
  {
   "cell_type": "markdown",
   "metadata": {
    "id": "rZqutiFsugvw"
   },
   "source": [
    "### Task 3\n",
    "\n",
    "Create a class named `Researcher`, which inherits the properties and methods from the `Person` class. Besides, this class has an additional parameter, `papers` which is `None` by default.\n",
    "\n",
    "_Note:_ You should check if `papers` is `None` in `__init__` and set it to `[]` instead.\n",
    "\n",
    "```python\n",
    "class Researcher(Person):\n",
    "    def __init__('Add arguments'):\n",
    "        super().__init__(title, name, surname)\n",
    "```"
   ]
  },
  {
   "cell_type": "code",
   "execution_count": 100,
   "metadata": {
    "id": "QCfpoVveugvy"
   },
   "outputs": [],
   "source": [
    "class Researcher(Person):\n",
    "    \n",
    "    def __init__(self, title, name, surname, papers = None):\n",
    "        super().__init__(title, name, surname)\n",
    "        self.papers = papers if papers is not None else []\n",
    "\n",
    "    def add_paper(self, paper):\n",
    "        \n",
    "        self.papers.append(paper)\n",
    "\n",
    "    def __str__(self):\n",
    "        \n",
    "        paper_list = ', '.join(self.papers) if self.papers else \"-\"\n",
    "        \n",
    "        return f\"{super().__str__()}  with papers: {paper_list}\"\n",
    "        "
   ]
  },
  {
   "cell_type": "code",
   "execution_count": 101,
   "metadata": {},
   "outputs": [
    {
     "name": "stdout",
     "output_type": "stream",
     "text": [
      "Senior Researcher Mikolov Tomas  with papers: -\n"
     ]
    }
   ],
   "source": [
    "researcher1 = Researcher(\"Senior Researcher\", \"Tomas\", \"Mikolov\")\n",
    "print(researcher1)"
   ]
  },
  {
   "cell_type": "markdown",
   "metadata": {
    "id": "40nAxy14ugv8"
   },
   "source": [
    "### Task 4\n",
    "\n",
    "Consider the following scientists:\n",
    "\n",
    "1.  Paper _Deep Learning_ published by Yann LeCun, Yoshua Bengio, Geoffrey Hinton, in _nature 521_, id = https://doi.org/10.1038/nature14539, peer_rating = Excelent.\n",
    "\n",
    "2. Paper _On the difficulty of training recurrent neural networks_ by Razvan Pascanu, Tomas Mikolov, Professor of computer science Yoshua Bengio, in ICML 2013, id = https://arxiv.org/abs/1211.5063, peer_rating = Excelent.\n",
    "\n",
    "2. Paper _Generative Adversarial Nets_ by Ian Goodfellow and Yoshua Bengio, NeurIPS 2015, id = http://papers.nips.cc/paper/5423-generative-adversarial-nets.pdf, peer_rating = Excelent.\n",
    "\n",
    "3. Paper _Handwritten Digit Recognition with a Back-Propagation Network_ by Computer Scientist Yann LeCun, NeurIPS 1989, id =  https://papers.nips.cc/paper/293-handwritten-digit-recognition-with-a-back-propagation-network, peer_rating = Excelent.\n",
    "\n",
    "4. Paper _Gated Softmax Classification_ by Geoffrey Hintorn, NeurIPS 2010, id = http://papers.neurips.cc/paper/3895-gated-softmax-classification, peer_rating = Good.\n",
    "\n",
    "_Note:_ Let us consider \"Mr\" as a default title for the researchers without a specific caption. Also, for the id of a paper, please use only integers from the provided links.\n",
    "\n",
    "**a.** Define the next 5 scientists and use them in your `paper` objects.\n",
    "\n",
    "**b.** Create the `verify_co_authorship` function inside the `class Researcher` which checks if a certain researcher ever co-authored a paper.\n",
    "_Hint:_ Use `self.co_authored = False` inside the `__init__` function.\n",
    "\n",
    "**c.** Implement the `get_collab` function inside the `class Researcher` to discover the papers written by two researchers.\n",
    "\n",
    "For instance, if Yoshua Bengio is researcher2 and Ian Goodfellow is researcher3, then:\n",
    "\n",
    "`print_papers(researcher2.get_collab(researcher3))` should output:\n",
    "\n",
    "_Generative Adversarial Nets, Mr Ian Goodfellow et al. (2015), a_id: 5423, status: published, rating: Excelent_\n",
    "\n",
    "_Note:_ This function helps you to print the papers from a given list.\n",
    "\n",
    "```python\n",
    "def print_papers(paper_list):\n",
    "    for paper in paper_list:\n",
    "        print(paper)\n",
    "```\n",
    "\n",
    "**d.** What are the papers written by Yoshua Bengio?\n",
    "\n",
    "Expected output:\n",
    "\n",
    "`Deep Learning, Computer Scientist Yann LeCun et al. (2015), a_id: 14539, status: published, rating: Excelent`\n",
    "\n",
    "`Generative Adversarial Nets, Mr Ian Goodfellow et al. (2015), a_id: 5423, status: published, rating: Excelent`\n",
    "\n",
    "`Paper On the difficulty of training recurrent neural networks, Mr Razvan Pascanu et al. (2013), a_id: 5063, status: published, rating: Excelent`\n",
    "\n",
    "**e.** Did he ever co-author a paper?\n",
    "\n",
    "**f.** Which papers are published by Yann LeCun?\n",
    "\n",
    "Expected output:\n",
    "\n",
    "`Deep Learning, Computer Scientist Yann LeCun et al. (2015), a_id: 14539, status: published, rating: Excelent`\n",
    "\n",
    "`Handwritten Digit Recognition with a Back-Propagation Network, Computer Scientist Yann LeCun et al. (1989), a_id: 293, status: published, rating: Good`"
   ]
  },
  {
   "cell_type": "code",
   "execution_count": 103,
   "metadata": {},
   "outputs": [],
   "source": [
    "class Paper:\n",
    "    \n",
    "    def __init__(self, authors, title, a_id, year, status, peer_rating):\n",
    "        self.authors = authors  \n",
    "        self.title = title  \n",
    "        self.a_id = a_id  \n",
    "        self.year = year \n",
    "        self.status = status  \n",
    "        self.peer_rating = peer_rating  \n",
    "    \n",
    "    def __str__(self):\n",
    "        return (f'{self.title}, {\", \".join(self.authors)} et al. ({self.year}), '\n",
    "                f'a_id: {self.a_id}, status: {self.status}, rating: {self.peer_rating}')\n",
    "        "
   ]
  },
  {
   "cell_type": "code",
   "execution_count": 104,
   "metadata": {},
   "outputs": [],
   "source": [
    "class Researcher(Person):\n",
    "    \n",
    "    def __init__(self, title, name, surname, papers=None):\n",
    "        \n",
    "        super().__init__(title if title else \"Mr\", name, surname) \n",
    "        \n",
    "        self.papers = papers if papers is not None else []\n",
    "        self.co_authored = False\n",
    "\n",
    "    def add_paper(self, paper):\n",
    "        self.papers.append(paper)\n",
    "\n",
    "    def verify_co_authorship(self, other_researcher):\n",
    "        \n",
    "        for paper in self.papers:\n",
    "            \n",
    "            if any(author in other_researcher.get_full_name() for author in paper.authors):\n",
    "                self.co_authored = True\n",
    "                return True\n",
    "                \n",
    "        return False\n",
    "\n",
    "    def get_collab(self, other_researcher):\n",
    "        \n",
    "        collab_papers = []\n",
    "        \n",
    "        for paper in self.papers:\n",
    "            if other_researcher.get_full_name() in paper.authors:\n",
    "                collab_papers.append(paper)\n",
    "                \n",
    "        return collab_papers\n",
    "\n",
    "    def get_full_name(self):\n",
    "        return f\"{self.title} {self.name} {self.surname}\""
   ]
  },
  {
   "cell_type": "code",
   "execution_count": 105,
   "metadata": {},
   "outputs": [],
   "source": [
    "def print_papers(paper_list):\n",
    "    for paper in paper_list:\n",
    "        print(paper)"
   ]
  },
  {
   "cell_type": "code",
   "execution_count": 107,
   "metadata": {},
   "outputs": [],
   "source": [
    "researcher1 = Researcher(\"Computer Scientist\", \"Yann\", \"LeCun\")\n",
    "researcher2 = Researcher(\"Senior Researcher\", \"Yoshua\", \"Bengio\")\n",
    "researcher3 = Researcher(\"Mr\", \"Ian\", \"Goodfellow\")\n",
    "researcher4 = Researcher(\"Mr\", \"Geoffrey\", \"Hinton\")\n",
    "researcher5 = Researcher(\"Mr\", \"Razvan\", \"Pascanu\")"
   ]
  },
  {
   "cell_type": "code",
   "execution_count": 108,
   "metadata": {},
   "outputs": [],
   "source": [
    "paper1 = Paper(\n",
    "    authors=[researcher1.get_full_name(), researcher2.get_full_name(), researcher4.get_full_name()],\n",
    "    title=\"Deep Learning\",\n",
    "    a_id=14539,\n",
    "    year=2015,\n",
    "    status=\"published\",\n",
    "    peer_rating=\"Excellent\"\n",
    ")\n",
    "\n",
    "paper2 = Paper(\n",
    "    authors=[researcher5.get_full_name(), researcher3.get_full_name(), researcher2.get_full_name()],\n",
    "    title=\"On the difficulty of training recurrent neural networks\",\n",
    "    a_id=5063,\n",
    "    year=2013,\n",
    "    status=\"published\",\n",
    "    peer_rating=\"Excellent\"\n",
    ")\n",
    "\n",
    "paper3 = Paper(\n",
    "    authors=[researcher3.get_full_name(), researcher2.get_full_name()],\n",
    "    title=\"Generative Adversarial Nets\",\n",
    "    a_id=5423,\n",
    "    year=2015,\n",
    "    status=\"published\",\n",
    "    peer_rating=\"Excellent\"\n",
    ")\n",
    "\n",
    "paper4 = Paper(\n",
    "    authors=[researcher1.get_full_name()],\n",
    "    title=\"Handwritten Digit Recognition with a Back-Propagation Network\",\n",
    "    a_id=293,\n",
    "    year=1989,\n",
    "    status=\"published\",\n",
    "    peer_rating=\"Excellent\"\n",
    ")\n",
    "\n",
    "paper5 = Paper(\n",
    "    authors=[researcher4.get_full_name()],\n",
    "    title=\"Gated Softmax Classification\",\n",
    "    a_id=3895,\n",
    "    year=2010,\n",
    "    status=\"published\",\n",
    "    peer_rating=\"Good\"\n",
    ")"
   ]
  },
  {
   "cell_type": "code",
   "execution_count": 109,
   "metadata": {},
   "outputs": [],
   "source": [
    "researcher1.add_paper(paper1)\n",
    "researcher1.add_paper(paper4)\n",
    "\n",
    "researcher2.add_paper(paper1)\n",
    "researcher2.add_paper(paper2)\n",
    "researcher2.add_paper(paper3)\n",
    "\n",
    "researcher3.add_paper(paper2)\n",
    "researcher3.add_paper(paper3)\n",
    "\n",
    "researcher4.add_paper(paper1)\n",
    "researcher4.add_paper(paper5)\n",
    "\n",
    "researcher5.add_paper(paper2)"
   ]
  },
  {
   "cell_type": "code",
   "execution_count": 110,
   "metadata": {
    "collapsed": true,
    "jupyter": {
     "outputs_hidden": true
    }
   },
   "outputs": [
    {
     "name": "stdout",
     "output_type": "stream",
     "text": [
      "Deep Learning, Computer Scientist Yann LeCun, Senior Researcher Yoshua Bengio, Mr Geoffrey Hinton et al. (2015), a_id: 14539, status: published, rating: Excellent\n",
      "On the difficulty of training recurrent neural networks, Mr Razvan Pascanu, Mr Ian Goodfellow, Senior Researcher Yoshua Bengio et al. (2013), a_id: 5063, status: published, rating: Excellent\n",
      "Generative Adversarial Nets, Mr Ian Goodfellow, Senior Researcher Yoshua Bengio et al. (2015), a_id: 5423, status: published, rating: Excellent\n"
     ]
    }
   ],
   "source": [
    "# d. papers written by Yoshua Bengio\n",
    "print_papers(researcher2.papers)"
   ]
  },
  {
   "cell_type": "code",
   "execution_count": 113,
   "metadata": {},
   "outputs": [
    {
     "name": "stdout",
     "output_type": "stream",
     "text": [
      "True\n"
     ]
    }
   ],
   "source": [
    "# e. yoshua bengio as coauthor\n",
    "print(researcher2.verify_co_authorship(researcher3))"
   ]
  },
  {
   "cell_type": "code",
   "execution_count": 114,
   "metadata": {
    "collapsed": true,
    "jupyter": {
     "outputs_hidden": true
    }
   },
   "outputs": [
    {
     "name": "stdout",
     "output_type": "stream",
     "text": [
      "Deep Learning, Computer Scientist Yann LeCun, Senior Researcher Yoshua Bengio, Mr Geoffrey Hinton et al. (2015), a_id: 14539, status: published, rating: Excellent\n",
      "Handwritten Digit Recognition with a Back-Propagation Network, Computer Scientist Yann LeCun et al. (1989), a_id: 293, status: published, rating: Excellent\n"
     ]
    }
   ],
   "source": [
    "# f. papers published by yann lecun\n",
    "print_papers(researcher1.papers)"
   ]
  },
  {
   "cell_type": "markdown",
   "metadata": {
    "id": "AImKzUZgugv9"
   },
   "source": [
    "### Task 5 \n",
    "\n",
    "Consider an updated version of the `ScientificConference` class, which should have a modified version of the function `add_manuscript`.\n",
    "\n",
    "Use the `status` and the `peer_rating` variables as a **threshold** to add papers in your `papers` dictionary. The conferences will only be accepting `Excelent` papers. For this case, the dictionary has the year of the paper as `key`, and the `values` are stored as a tuple of `(researcher, manuscript)`. For the papers which don't satisfy this condition, the message _\"Please review your submission.\"_ is displayed.\n",
    "\n",
    "For papers submitted in 2015, when printing the conference, the `str` function should output:\n",
    "\n",
    "```\n",
    "NeurIPS 2020: \n",
    "2015: \n",
    "Mr Ian Goodfellow: Generative Adversarial Nets, Mr Ian Goodfellow et al. (2015), id: 5423, status: published, rating: Excelent \n",
    "Computer Scientist Yann LeCun: Deep Learning, Computer Scientist Yann LeCun et al. (2015), id: 14539, status: published, rating: Excelent\n",
    "```"
   ]
  },
  {
   "cell_type": "code",
   "execution_count": 134,
   "metadata": {
    "id": "EDsHycjEugv_"
   },
   "outputs": [],
   "source": [
    "class ScientificConferenceUpdate:\n",
    "    \n",
    "    def __init__(self, name, year, papers = None):\n",
    "        \n",
    "        self.name = name\n",
    "        self.year = year\n",
    "        self.papers = {}\n",
    "        \n",
    "    \n",
    "    def add_manuscript(self, manuscript, researcher):\n",
    "        if manuscript.peer_rating == \"Excellent\": \n",
    "            if manuscript.year not in self.papers:\n",
    "                self.papers[manuscript.year] = []\n",
    "\n",
    "            self.papers[manuscript.year].append((str(researcher), manuscript))\n",
    "        \n",
    "        \n",
    "    def __str__(self):\n",
    "        result = self.name + ' ' + str(self.year) + ': \\n'\n",
    "        for year, papers in self.papers.items():\n",
    "            result += f'{year}: \\n'\n",
    "            for (author, paper) in papers: \n",
    "                result += f'{author}: {paper} \\n'\n",
    "        return result"
   ]
  },
  {
   "cell_type": "code",
   "execution_count": 135,
   "metadata": {},
   "outputs": [],
   "source": [
    "conference3 = ScientificConferenceUpdate(\"ConferenceX\", 2020)"
   ]
  },
  {
   "cell_type": "code",
   "execution_count": 136,
   "metadata": {},
   "outputs": [],
   "source": [
    "paper1 = Paper(\n",
    "    authors=[str(researcher1), str(researcher2), str(researcher4)],\n",
    "    title=\"Deep Learning\",\n",
    "    a_id=14539,\n",
    "    year=2015,\n",
    "    status=\"published\",\n",
    "    peer_rating=\"Excellent\"\n",
    ")\n",
    "\n",
    "paper2 = Paper(\n",
    "    authors=[str(researcher3), str(researcher2)],\n",
    "    title=\"Generative Adversarial Nets\",\n",
    "    a_id=5423,\n",
    "    year=2015,\n",
    "    status=\"published\",\n",
    "    peer_rating=\"Excellent\"\n",
    ")"
   ]
  },
  {
   "cell_type": "code",
   "execution_count": 137,
   "metadata": {},
   "outputs": [],
   "source": [
    "conference3.add_manuscript(paper1, researcher1)\n",
    "conference3.add_manuscript(paper2, researcher3)"
   ]
  },
  {
   "cell_type": "code",
   "execution_count": 138,
   "metadata": {},
   "outputs": [
    {
     "name": "stdout",
     "output_type": "stream",
     "text": [
      "ConferenceX 2020: \n",
      "2015: \n",
      "Computer Scientist LeCun Yann: Deep Learning, Computer Scientist LeCun Yann, Senior Researcher Bengio Yoshua, Mr Hinton Geoffrey et al. (2015), a_id: 14539, status: published, rating: Excellent \n",
      "Mr Goodfellow Ian: Generative Adversarial Nets, Mr Goodfellow Ian, Senior Researcher Bengio Yoshua et al. (2015), a_id: 5423, status: published, rating: Excellent \n",
      "\n"
     ]
    }
   ],
   "source": [
    "print(conference3)"
   ]
  },
  {
   "cell_type": "code",
   "execution_count": null,
   "metadata": {},
   "outputs": [],
   "source": []
  }
 ],
 "metadata": {
  "colab": {
   "collapsed_sections": [],
   "name": "Lab03_AI.ipynb",
   "provenance": []
  },
  "kernelspec": {
   "display_name": "Python 3 (ipykernel)",
   "language": "python",
   "name": "python3"
  },
  "language_info": {
   "codemirror_mode": {
    "name": "ipython",
    "version": 3
   },
   "file_extension": ".py",
   "mimetype": "text/x-python",
   "name": "python",
   "nbconvert_exporter": "python",
   "pygments_lexer": "ipython3",
   "version": "3.12.2"
  }
 },
 "nbformat": 4,
 "nbformat_minor": 4
}
